{
 "cells": [
  {
   "cell_type": "code",
   "execution_count": 1,
   "id": "8ee11eb4-fdef-4032-ae95-da7d62c576e2",
   "metadata": {},
   "outputs": [
    {
     "name": "stdin",
     "output_type": "stream",
     "text": [
      "Number of inputs:  2\n",
      "Number of hidden layers:  2\n",
      "Number of neurons in hidden layer 1:  2\n",
      "Number of neurons in hidden layer 2:  3\n",
      "Number of output neurons:  1\n",
      "Value of input 1:  1\n",
      "Value of input 2:  5\n"
     ]
    },
    {
     "name": "stdout",
     "output_type": "stream",
     "text": [
      "\n",
      "Network structure: [2, 2, 3, 1]\n",
      "Inputs: [1.0, 5.0]\n",
      "Final output: [0.8346901172078882]\n"
     ]
    }
   ],
   "source": [
    "import math\n",
    "import random\n",
    "\n",
    "def sigmoid(x):\n",
    "    return 1 / (1 + math.exp(-x))\n",
    "\n",
    "# Simple neuron\n",
    "def neuron(inputs, weights, bias):\n",
    "    total = sum(inputs[i] * weights[i] for i in range(len(inputs))) + bias\n",
    "    return sigmoid(total)\n",
    "\n",
    "class MLP:\n",
    "    def __init__(self, structure):\n",
    "        self.structure = structure\n",
    "        self.num_layers = len(structure) - 1  # Define the number of connections between layers\n",
    "        # Initialize weights\n",
    "        self.weights = []\n",
    "        for i in range(self.num_layers):\n",
    "            layer_weights = []\n",
    "            for _ in range(structure[i + 1]):\n",
    "                neuron_weights = [random.uniform(-1, 1) for _ in range(structure[i])]\n",
    "                layer_weights.append(neuron_weights)\n",
    "            self.weights.append(layer_weights)\n",
    "        # Initialize biases\n",
    "        self.biases = []\n",
    "        for i in range(self.num_layers):\n",
    "            layer_biases = [random.uniform(-1, 1) for _ in range(structure[i + 1])]\n",
    "            self.biases.append(layer_biases)\n",
    "\n",
    "    def forward(self, inputs):\n",
    "        activation = inputs  # Initialize with the inputs\n",
    "        for layer in range(self.num_layers):\n",
    "            new_activations = []\n",
    "            for j in range(len(self.weights[layer])):  # Each neuron in the current layer\n",
    "                weighted_sum = sum(\n",
    "                    activation[i] * self.weights[layer][j][i] for i in range(len(activation))\n",
    "                ) + self.biases[layer][j]\n",
    "                new_activations.append(sigmoid(weighted_sum))\n",
    "            activation = new_activations  # Update for the next layer\n",
    "        return activation  # Return the final output\n",
    "\n",
    "# === Ask the user to configure the network ===\n",
    "num_inputs = int(input(\"Number of inputs: \"))\n",
    "# Ask for the network structure\n",
    "structure = [num_inputs]  # Start with inputs\n",
    "num_hidden_layers = int(input(\"Number of hidden layers: \"))\n",
    "for i in range(num_hidden_layers):\n",
    "    num_neurons = int(input(f\"Number of neurons in hidden layer {i + 1}: \"))\n",
    "    structure.append(num_neurons)\n",
    "num_outputs = int(input(\"Number of output neurons: \"))\n",
    "structure.append(num_outputs)\n",
    "\n",
    "# Ask for the input values\n",
    "inputs = []\n",
    "for i in range(num_inputs):\n",
    "    value = float(input(f\"Value of input {i + 1}: \"))\n",
    "    inputs.append(value)\n",
    "\n",
    "# === Create and run the neural network ===\n",
    "NN = MLP(structure)\n",
    "output = NN.forward(inputs)\n",
    "\n",
    "print(\"\\nNetwork structure:\", structure)\n",
    "print(\"Inputs:\", inputs)\n",
    "print(\"Final output:\", output)\n"
   ]
  },
  {
   "cell_type": "code",
   "execution_count": null,
   "id": "ab5d61aa-0666-473c-aa38-7a3bb40577e8",
   "metadata": {},
   "outputs": [],
   "source": []
  }
 ],
 "metadata": {
  "kernelspec": {
   "display_name": "Python 3 (ipykernel)",
   "language": "python",
   "name": "python3"
  },
  "language_info": {
   "codemirror_mode": {
    "name": "ipython",
    "version": 3
   },
   "file_extension": ".py",
   "mimetype": "text/x-python",
   "name": "python",
   "nbconvert_exporter": "python",
   "pygments_lexer": "ipython3",
   "version": "3.12.1"
  }
 },
 "nbformat": 4,
 "nbformat_minor": 5
}
